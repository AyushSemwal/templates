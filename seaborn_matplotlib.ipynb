{
 "cells": [
  {
   "cell_type": "code",
   "execution_count": null,
   "metadata": {},
   "outputs": [],
   "source": [
    "import seaborn as sns\n",
    "import matplotlib.pyplot as plt"
   ]
  },
  {
   "cell_type": "code",
   "execution_count": null,
   "metadata": {},
   "outputs": [],
   "source": [
    "# ~~~~~~ Read-Length distribution/histogram plot ~~~~~~ #\n",
    "\n",
    "plt.figure(figsize=(8, 6))\n",
    "sns.histplot(x=cDNA_lengths) # a list of cDNA lengths \n",
    "plt.title(\"cDNA length distribution\")\n",
    "plt.xlabel(\"Read Length (bp)\")\n",
    "plt.grid(axis=\"y\", linestyle=\"--\", alpha=0.3)\n",
    "plt.tight_layout()\n",
    "plt.show()"
   ]
  },
  {
   "cell_type": "code",
   "execution_count": null,
   "metadata": {},
   "outputs": [],
   "source": [
    "# ~~~~~~~ bar plot from pandas data frame ~~~~~~ #\n",
    "\n",
    "plt.figure(figsize=(8, 6))\n",
    "sns.barplot(x='cell_id', y='prop_w_no_polyA', data=pandas_df)\n",
    "plt.xticks(rotation=45, ha='right')\n",
    "plt.title(\"Proportion of reads with no polyA per cell id\")\n",
    "plt.xlabel(\"Cell ID\")\n",
    "plt.ylabel(\"Proportion\")\n",
    "plt.grid(axis=\"y\", linestyle=\"--\", alpha=0.3)\n",
    "plt.tight_layout()\n",
    "plt.show()"
   ]
  },
  {
   "cell_type": "code",
   "execution_count": null,
   "metadata": {},
   "outputs": [],
   "source": []
  }
 ],
 "metadata": {
  "language_info": {
   "name": "python"
  }
 },
 "nbformat": 4,
 "nbformat_minor": 2
}
