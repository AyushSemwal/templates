{
 "cells": [
  {
   "cell_type": "code",
   "execution_count": null,
   "metadata": {},
   "outputs": [],
   "source": [
    "import pysam"
   ]
  },
  {
   "cell_type": "code",
   "execution_count": null,
   "metadata": {},
   "outputs": [],
   "source": [
    "# ~~~~~ filtering PCR duplicates from a bam file ~~~~~ #\n",
    "\n",
    "input_bam = \"input.bam\"\n",
    "output_bam = \"filtered_no_duplicates.bam\"\n",
    "sorted_output_bam = \"demuxed_aligned_no_dup_sorted.bam\"\n",
    "\n",
    "with pysam.AlignmentFile(input_bam, \"rb\") as infile: # Open input BAM file in read mode\n",
    "    with pysam.AlignmentFile(output_bam, \"wb\", header=infile.header) as outfile: # Create output BAM with same header\n",
    "        for read in infile:\n",
    "            if not read.is_duplicate: # Only write reads that are NOT PCR duplicates\n",
    "                outfile.write(read)\n",
    "\n",
    "pysam.sort(\"-@\", \"4\", \"-o\", sorted_output_bam, output_bam)\n",
    "pysam.index(sorted_output_bam) # Index the output BAM \n",
    "os.remove(output_bam)\n"
   ]
  },
  {
   "cell_type": "code",
   "execution_count": null,
   "metadata": {},
   "outputs": [],
   "source": [
    "# ~~~~~ etxracting a sepecific tag value from a bam file ~~~~~ #\n",
    "\n",
    "with pysam.AlignmentFile(bam_file, \"rb\") as bam:\n",
    "        for read in bam:\n",
    "            read_name = read.query_name\n",
    "            duplicate_tag = read.get_tag(\"DT\") if read.has_tag(\"DT\") else \"No\"\n"
   ]
  },
  {
   "cell_type": "code",
   "execution_count": null,
   "metadata": {},
   "outputs": [],
   "source": [
    "# ~~~~~ merging bam files ~~~~~~ #\n",
    "\n",
    "def merge_bam_files(output_bam, input_folder):\n",
    "    \"\"\"Merges temporary BAM files into a single output BAM.\"\"\"\n",
    "    input_files = [f for f in os.listdir(input_folder) if f.endswith(\".bam\")]\n",
    "    merged_bam = output_bam\n",
    "    \n",
    "    with pysam.AlignmentFile(input_files[0], \"rb\") as template:\n",
    "        with pysam.AlignmentFile(merged_bam, \"wb\", template=template) as merged_out:\n",
    "            for temp_file in input_files:\n",
    "                with pysam.AlignmentFile(temp_file, \"rb\") as temp_bam:\n",
    "                    for read in temp_bam:\n",
    "                        merged_out.write(read)\n",
    "                os.remove(temp_file)  # Clean up temporary BAM files\n"
   ]
  },
  {
   "cell_type": "code",
   "execution_count": null,
   "metadata": {},
   "outputs": [],
   "source": [
    "# ~~~~~ read lengths from the bam file ~~~~~ #\n",
    "\n",
    "sorted_bam = \"input.bam\"\n",
    "cDNA_lengths = []\n",
    "\n",
    "with pysam.AlignmentFile(sorted_output_bam, 'rb') as no_dup_bam:\n",
    "    for read in no_dup_bam:\n",
    "        if (not read.is_secondary) and (not read.is_supplementary):\n",
    "            cDNA_lengths.append(read.query_length)\n"
   ]
  }
 ],
 "metadata": {
  "kernelspec": {
   "display_name": "base",
   "language": "python",
   "name": "python3"
  },
  "language_info": {
   "name": "python",
   "version": "3.10.13"
  }
 },
 "nbformat": 4,
 "nbformat_minor": 2
}
